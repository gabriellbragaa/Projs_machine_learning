{
  "nbformat": 4,
  "nbformat_minor": 0,
  "metadata": {
    "colab": {
      "provenance": [],
      "include_colab_link": true
    },
    "kernelspec": {
      "name": "python3",
      "display_name": "Python 3"
    },
    "language_info": {
      "name": "python"
    }
  },
  "cells": [
    {
      "cell_type": "markdown",
      "metadata": {
        "id": "view-in-github",
        "colab_type": "text"
      },
      "source": [
        "<a href=\"https://colab.research.google.com/github/gabriellbragaa/machine_learning/blob/main/tp1_ml(1).ipynb\" target=\"_parent\"><img src=\"https://colab.research.google.com/assets/colab-badge.svg\" alt=\"Open In Colab\"/></a>"
      ]
    },
    {
      "cell_type": "markdown",
      "source": [
        "**DIVISÃO DE TAREFAS:**\n",
        "\n",
        "1.  MARCOS:\n",
        "    - Importação dos dados\n",
        "    - Análise dos dados\n",
        "    - Predição com KNN\n",
        "2.   KAUAN:\n",
        "    - Pré-processamento\n",
        "    - Random Forest\n",
        "3.  GABRIEL:\n",
        "    - Regressão logística\n",
        "    - Análise Comparativa"
      ],
      "metadata": {
        "id": "Cp_ZIgILZF_4"
      }
    },
    {
      "cell_type": "markdown",
      "source": [
        "**ETAPA DE IMPORTAÇÃO DOS DADOS**"
      ],
      "metadata": {
        "id": "B8mTNbc2U7hx"
      }
    },
    {
      "cell_type": "code",
      "execution_count": null,
      "metadata": {
        "colab": {
          "base_uri": "https://localhost:8080/"
        },
        "id": "jQ5rAwNvE5I7",
        "outputId": "5e837e91-19fc-459c-f188-6e527ba315f4"
      },
      "outputs": [
        {
          "output_type": "stream",
          "name": "stdout",
          "text": [
            "Requirement already satisfied: ucimlrepo in /usr/local/lib/python3.11/dist-packages (0.0.7)\n",
            "Requirement already satisfied: pandas>=1.0.0 in /usr/local/lib/python3.11/dist-packages (from ucimlrepo) (2.2.2)\n",
            "Requirement already satisfied: certifi>=2020.12.5 in /usr/local/lib/python3.11/dist-packages (from ucimlrepo) (2025.4.26)\n",
            "Requirement already satisfied: numpy>=1.23.2 in /usr/local/lib/python3.11/dist-packages (from pandas>=1.0.0->ucimlrepo) (2.0.2)\n",
            "Requirement already satisfied: python-dateutil>=2.8.2 in /usr/local/lib/python3.11/dist-packages (from pandas>=1.0.0->ucimlrepo) (2.9.0.post0)\n",
            "Requirement already satisfied: pytz>=2020.1 in /usr/local/lib/python3.11/dist-packages (from pandas>=1.0.0->ucimlrepo) (2025.2)\n",
            "Requirement already satisfied: tzdata>=2022.7 in /usr/local/lib/python3.11/dist-packages (from pandas>=1.0.0->ucimlrepo) (2025.2)\n",
            "Requirement already satisfied: six>=1.5 in /usr/local/lib/python3.11/dist-packages (from python-dateutil>=2.8.2->pandas>=1.0.0->ucimlrepo) (1.17.0)\n"
          ]
        }
      ],
      "source": [
        "pip install ucimlrepo"
      ]
    },
    {
      "cell_type": "code",
      "source": [
        "from ucimlrepo import fetch_ucirepo\n",
        "import pandas as pd\n",
        "from sklearn.model_selection import train_test_split\n",
        "from sklearn.preprocessing import LabelEncoder, StandardScaler, OneHotEncoder\n",
        "from sklearn.compose import ColumnTransformer\n",
        "from sklearn.pipeline import Pipeline\n",
        "\n",
        "# Carregar o dataset pelo ID (Predict Students Dropout and Academic Success)\n",
        "dataset = fetch_ucirepo(id=697)\n",
        "\n",
        "# Extrair dados em formato pandas\n",
        "X = dataset.data.features\n",
        "y = dataset.data.targets"
      ],
      "metadata": {
        "id": "rmBurFCpLPnE"
      },
      "execution_count": null,
      "outputs": []
    },
    {
      "cell_type": "markdown",
      "source": [
        "**ETAPA DE ANÁLISE DOS DADOS**"
      ],
      "metadata": {
        "id": "yN-1cuFUW4SR"
      }
    },
    {
      "cell_type": "code",
      "source": [
        "# Mostrar informações básicas\n",
        "print(\"Shape (features):\", X.shape)\n",
        "print(\"Shape (targets):\", y.shape)\n",
        "\n",
        "# Garante que y seja uma Series com a coluna \"Target\"\n",
        "y = y['Target']"
      ],
      "metadata": {
        "colab": {
          "base_uri": "https://localhost:8080/"
        },
        "id": "vpzzWa2NWpOg",
        "outputId": "d8873649-4500-46e0-9042-0c377309d48e"
      },
      "execution_count": null,
      "outputs": [
        {
          "output_type": "stream",
          "name": "stdout",
          "text": [
            "Shape (features): (4424, 36)\n",
            "Shape (targets): (4424, 1)\n"
          ]
        }
      ]
    },
    {
      "cell_type": "code",
      "source": [
        "import pandas as pd\n",
        "import seaborn as sns\n",
        "import matplotlib.pyplot as plt\n",
        "import missingno as msno\n",
        "\n",
        "# Juntando features e target para facilitar a análise\n",
        "df = pd.concat([X, y], axis=1)\n",
        "\n",
        "# Verificações iniciais\n",
        "print(\"Tipos de dados:\\n\", df.dtypes)"
      ],
      "metadata": {
        "colab": {
          "base_uri": "https://localhost:8080/"
        },
        "id": "UW1esBUPbJCR",
        "outputId": "9a624bac-6a6a-48da-d2af-592b9f153194"
      },
      "execution_count": null,
      "outputs": [
        {
          "output_type": "stream",
          "name": "stdout",
          "text": [
            "Tipos de dados:\n",
            " Marital Status                                      int64\n",
            "Application mode                                    int64\n",
            "Application order                                   int64\n",
            "Course                                              int64\n",
            "Daytime/evening attendance                          int64\n",
            "Previous qualification                              int64\n",
            "Previous qualification (grade)                    float64\n",
            "Nacionality                                         int64\n",
            "Mother's qualification                              int64\n",
            "Father's qualification                              int64\n",
            "Mother's occupation                                 int64\n",
            "Father's occupation                                 int64\n",
            "Admission grade                                   float64\n",
            "Displaced                                           int64\n",
            "Educational special needs                           int64\n",
            "Debtor                                              int64\n",
            "Tuition fees up to date                             int64\n",
            "Gender                                              int64\n",
            "Scholarship holder                                  int64\n",
            "Age at enrollment                                   int64\n",
            "International                                       int64\n",
            "Curricular units 1st sem (credited)                 int64\n",
            "Curricular units 1st sem (enrolled)                 int64\n",
            "Curricular units 1st sem (evaluations)              int64\n",
            "Curricular units 1st sem (approved)                 int64\n",
            "Curricular units 1st sem (grade)                  float64\n",
            "Curricular units 1st sem (without evaluations)      int64\n",
            "Curricular units 2nd sem (credited)                 int64\n",
            "Curricular units 2nd sem (enrolled)                 int64\n",
            "Curricular units 2nd sem (evaluations)              int64\n",
            "Curricular units 2nd sem (approved)                 int64\n",
            "Curricular units 2nd sem (grade)                  float64\n",
            "Curricular units 2nd sem (without evaluations)      int64\n",
            "Unemployment rate                                 float64\n",
            "Inflation rate                                    float64\n",
            "GDP                                               float64\n",
            "Target                                             object\n",
            "dtype: object\n"
          ]
        }
      ]
    },
    {
      "cell_type": "code",
      "source": [
        "# Visualizar primeiras linhas\n",
        "print(\"\\nAmostra das features:\")\n",
        "print(X.head())"
      ],
      "metadata": {
        "colab": {
          "base_uri": "https://localhost:8080/"
        },
        "id": "fVgHWzc9Oh6E",
        "outputId": "f4c05496-a1c2-4768-95ae-095dd79e2b57"
      },
      "execution_count": null,
      "outputs": [
        {
          "output_type": "stream",
          "name": "stdout",
          "text": [
            "\n",
            "Amostra das features:\n",
            "   Marital Status  Application mode  Application order  Course  \\\n",
            "0               1                17                  5     171   \n",
            "1               1                15                  1    9254   \n",
            "2               1                 1                  5    9070   \n",
            "3               1                17                  2    9773   \n",
            "4               2                39                  1    8014   \n",
            "\n",
            "   Daytime/evening attendance  Previous qualification  \\\n",
            "0                           1                       1   \n",
            "1                           1                       1   \n",
            "2                           1                       1   \n",
            "3                           1                       1   \n",
            "4                           0                       1   \n",
            "\n",
            "   Previous qualification (grade)  Nacionality  Mother's qualification  \\\n",
            "0                           122.0            1                      19   \n",
            "1                           160.0            1                       1   \n",
            "2                           122.0            1                      37   \n",
            "3                           122.0            1                      38   \n",
            "4                           100.0            1                      37   \n",
            "\n",
            "   Father's qualification  ...  \\\n",
            "0                      12  ...   \n",
            "1                       3  ...   \n",
            "2                      37  ...   \n",
            "3                      37  ...   \n",
            "4                      38  ...   \n",
            "\n",
            "   Curricular units 1st sem (without evaluations)  \\\n",
            "0                                               0   \n",
            "1                                               0   \n",
            "2                                               0   \n",
            "3                                               0   \n",
            "4                                               0   \n",
            "\n",
            "   Curricular units 2nd sem (credited)  Curricular units 2nd sem (enrolled)  \\\n",
            "0                                    0                                    0   \n",
            "1                                    0                                    6   \n",
            "2                                    0                                    6   \n",
            "3                                    0                                    6   \n",
            "4                                    0                                    6   \n",
            "\n",
            "   Curricular units 2nd sem (evaluations)  \\\n",
            "0                                       0   \n",
            "1                                       6   \n",
            "2                                       0   \n",
            "3                                      10   \n",
            "4                                       6   \n",
            "\n",
            "   Curricular units 2nd sem (approved)  Curricular units 2nd sem (grade)  \\\n",
            "0                                    0                          0.000000   \n",
            "1                                    6                         13.666667   \n",
            "2                                    0                          0.000000   \n",
            "3                                    5                         12.400000   \n",
            "4                                    6                         13.000000   \n",
            "\n",
            "   Curricular units 2nd sem (without evaluations)  Unemployment rate  \\\n",
            "0                                               0               10.8   \n",
            "1                                               0               13.9   \n",
            "2                                               0               10.8   \n",
            "3                                               0                9.4   \n",
            "4                                               0               13.9   \n",
            "\n",
            "   Inflation rate   GDP  \n",
            "0             1.4  1.74  \n",
            "1            -0.3  0.79  \n",
            "2             1.4  1.74  \n",
            "3            -0.8 -3.12  \n",
            "4            -0.3  0.79  \n",
            "\n",
            "[5 rows x 36 columns]\n"
          ]
        }
      ]
    },
    {
      "cell_type": "code",
      "source": [
        "print(\"\\nAmostra dos targets:\")\n",
        "print(y.head())"
      ],
      "metadata": {
        "colab": {
          "base_uri": "https://localhost:8080/"
        },
        "id": "HvH_R_grOnHc",
        "outputId": "c9bc8c42-a009-4fee-d77f-0b6dfc6b3a35"
      },
      "execution_count": null,
      "outputs": [
        {
          "output_type": "stream",
          "name": "stdout",
          "text": [
            "\n",
            "Amostra dos targets:\n",
            "0     Dropout\n",
            "1    Graduate\n",
            "2     Dropout\n",
            "3    Graduate\n",
            "4    Graduate\n",
            "Name: Target, dtype: object\n"
          ]
        }
      ]
    },
    {
      "cell_type": "code",
      "source": [
        "#Verifica se o dataset possui valores ausentes\n",
        "print(\"\\nValores ausentes por coluna:\\n\", df.isnull().sum())"
      ],
      "metadata": {
        "colab": {
          "base_uri": "https://localhost:8080/"
        },
        "id": "MOaNVqY6YLbX",
        "outputId": "6f44e9e4-07ec-4888-94c6-bf4e73495d48"
      },
      "execution_count": null,
      "outputs": [
        {
          "output_type": "stream",
          "name": "stdout",
          "text": [
            "\n",
            "Valores ausentes por coluna:\n",
            " Marital Status                                    0\n",
            "Application mode                                  0\n",
            "Application order                                 0\n",
            "Course                                            0\n",
            "Daytime/evening attendance                        0\n",
            "Previous qualification                            0\n",
            "Previous qualification (grade)                    0\n",
            "Nacionality                                       0\n",
            "Mother's qualification                            0\n",
            "Father's qualification                            0\n",
            "Mother's occupation                               0\n",
            "Father's occupation                               0\n",
            "Admission grade                                   0\n",
            "Displaced                                         0\n",
            "Educational special needs                         0\n",
            "Debtor                                            0\n",
            "Tuition fees up to date                           0\n",
            "Gender                                            0\n",
            "Scholarship holder                                0\n",
            "Age at enrollment                                 0\n",
            "International                                     0\n",
            "Curricular units 1st sem (credited)               0\n",
            "Curricular units 1st sem (enrolled)               0\n",
            "Curricular units 1st sem (evaluations)            0\n",
            "Curricular units 1st sem (approved)               0\n",
            "Curricular units 1st sem (grade)                  0\n",
            "Curricular units 1st sem (without evaluations)    0\n",
            "Curricular units 2nd sem (credited)               0\n",
            "Curricular units 2nd sem (enrolled)               0\n",
            "Curricular units 2nd sem (evaluations)            0\n",
            "Curricular units 2nd sem (approved)               0\n",
            "Curricular units 2nd sem (grade)                  0\n",
            "Curricular units 2nd sem (without evaluations)    0\n",
            "Unemployment rate                                 0\n",
            "Inflation rate                                    0\n",
            "GDP                                               0\n",
            "Target                                            0\n",
            "dtype: int64\n"
          ]
        }
      ]
    },
    {
      "cell_type": "code",
      "source": [
        "# Distribuição do target (classe)\n",
        "plt.figure(figsize=(6, 4))\n",
        "sns.countplot(data=df, x='Target')\n",
        "plt.title(\"Distribuição das Classes (Target)\")\n",
        "plt.xlabel(\"Classe\")\n",
        "plt.ylabel(\"Quantidade\")\n",
        "plt.xticks(rotation=45)\n",
        "plt.tight_layout()\n",
        "plt.show()"
      ],
      "metadata": {
        "colab": {
          "base_uri": "https://localhost:8080/",
          "height": 407
        },
        "id": "3-NXEteRX1rJ",
        "outputId": "6418c2f5-96b2-426f-a87f-1871ba061bc2"
      },
      "execution_count": null,
      "outputs": [
        {
          "output_type": "display_data",
          "data": {
            "text/plain": [
              "<Figure size 600x400 with 1 Axes>"
            ],
            "image/png": "[encoded data removed]"
          },
          "metadata": {}
        }
      ]
    },
    {
      "cell_type": "markdown",
      "source": [
        "**ETAPA DE PRÉ-PROCESSAMENTO**"
      ],
      "metadata": {
        "id": "0VGQJElZnW5W"
      }
    },
    {
      "cell_type": "markdown",
      "source": [
        "Codificar variáveis categóricas"
      ],
      "metadata": {
        "id": "RNjwg8H8hTtE"
      }
    },
    {
      "cell_type": "code",
      "source": [
        "# Identifica colunas object\n",
        "cat_cols = df.select_dtypes(include=['object']).columns.tolist()\n",
        "\n",
        "# Aplica LabelEncoder em todas as colunas object\n",
        "le = LabelEncoder()\n",
        "for col in cat_cols:\n",
        "    df[col] = le.fit_transform(df[col])\n",
        "\n",
        "print(\"Colunas categóricas codificadas:\", cat_cols)"
      ],
      "metadata": {
        "id": "8mbP-hCQRMJ1",
        "colab": {
          "base_uri": "https://localhost:8080/"
        },
        "outputId": "0113d574-4308-4a59-bbf2-66f9cac03618"
      },
      "execution_count": null,
      "outputs": [
        {
          "output_type": "stream",
          "name": "stdout",
          "text": [
            "Colunas categóricas codificadas: ['Target']\n"
          ]
        }
      ]
    },
    {
      "cell_type": "markdown",
      "source": [
        "Mostrar valores únicos por coluna"
      ],
      "metadata": {
        "id": "6t5_ftUUngyF"
      }
    },
    {
      "cell_type": "code",
      "source": [
        "print(df.nunique().sort_values())"
      ],
      "metadata": {
        "colab": {
          "base_uri": "https://localhost:8080/"
        },
        "id": "IgX5gqWLimEh",
        "outputId": "e64fdd0d-e092-4a35-cbbf-b56e3e0f0800"
      },
      "execution_count": null,
      "outputs": [
        {
          "output_type": "stream",
          "name": "stdout",
          "text": [
            "Daytime/evening attendance                          2\n",
            "Displaced                                           2\n",
            "Debtor                                              2\n",
            "Educational special needs                           2\n",
            "International                                       2\n",
            "Scholarship holder                                  2\n",
            "Gender                                              2\n",
            "Tuition fees up to date                             2\n",
            "Target                                              3\n",
            "Marital Status                                      6\n",
            "Application order                                   8\n",
            "Inflation rate                                      9\n",
            "Curricular units 2nd sem (without evaluations)     10\n",
            "Unemployment rate                                  10\n",
            "GDP                                                10\n",
            "Curricular units 1st sem (without evaluations)     11\n",
            "Course                                             17\n",
            "Previous qualification                             17\n",
            "Application mode                                   18\n",
            "Curricular units 2nd sem (credited)                19\n",
            "Curricular units 2nd sem (approved)                20\n",
            "Nacionality                                        21\n",
            "Curricular units 1st sem (credited)                21\n",
            "Curricular units 2nd sem (enrolled)                22\n",
            "Curricular units 1st sem (enrolled)                23\n",
            "Curricular units 1st sem (approved)                23\n",
            "Mother's qualification                             29\n",
            "Curricular units 2nd sem (evaluations)             30\n",
            "Mother's occupation                                32\n",
            "Father's qualification                             34\n",
            "Curricular units 1st sem (evaluations)             35\n",
            "Father's occupation                                46\n",
            "Age at enrollment                                  46\n",
            "Previous qualification (grade)                    101\n",
            "Admission grade                                   620\n",
            "Curricular units 2nd sem (grade)                  782\n",
            "Curricular units 1st sem (grade)                  797\n",
            "dtype: int64\n"
          ]
        }
      ]
    },
    {
      "cell_type": "markdown",
      "source": [
        "Separando colunas categóricas e numéricas com base na cardinalidade"
      ],
      "metadata": {
        "id": "y8Y9c2tul88I"
      }
    },
    {
      "cell_type": "code",
      "source": [
        "# Colunas categóricas: até 10 valores únicos\n",
        "cat_cols = [col for col in X.columns if X[col].nunique() <= 10]\n",
        "\n",
        "# Colunas numéricas: todas as outras\n",
        "num_cols = [col for col in X.columns if col not in cat_cols]\n",
        "\n",
        "print(\"Colunas categóricas:\", cat_cols)\n",
        "print(\"Colunas numéricas:\", num_cols)"
      ],
      "metadata": {
        "colab": {
          "base_uri": "https://localhost:8080/"
        },
        "id": "8DXeAdkQQ6EU",
        "outputId": "4e27c976-6d0e-4143-dc54-21f456612a26"
      },
      "execution_count": null,
      "outputs": [
        {
          "output_type": "stream",
          "name": "stdout",
          "text": [
            "Colunas categóricas: ['Marital Status', 'Application order', 'Daytime/evening attendance', 'Displaced', 'Educational special needs', 'Debtor', 'Tuition fees up to date', 'Gender', 'Scholarship holder', 'International', 'Curricular units 2nd sem (without evaluations)', 'Unemployment rate', 'Inflation rate', 'GDP']\n",
            "Colunas numéricas: ['Application mode', 'Course', 'Previous qualification', 'Previous qualification (grade)', 'Nacionality', \"Mother's qualification\", \"Father's qualification\", \"Mother's occupation\", \"Father's occupation\", 'Admission grade', 'Age at enrollment', 'Curricular units 1st sem (credited)', 'Curricular units 1st sem (enrolled)', 'Curricular units 1st sem (evaluations)', 'Curricular units 1st sem (approved)', 'Curricular units 1st sem (grade)', 'Curricular units 1st sem (without evaluations)', 'Curricular units 2nd sem (credited)', 'Curricular units 2nd sem (enrolled)', 'Curricular units 2nd sem (evaluations)', 'Curricular units 2nd sem (approved)', 'Curricular units 2nd sem (grade)']\n"
          ]
        }
      ]
    },
    {
      "cell_type": "markdown",
      "source": [
        "Colunas com valores constantes (apenas para visualização, pois não existem colunas constantes)"
      ],
      "metadata": {
        "id": "VS8Gnd88nBfB"
      }
    },
    {
      "cell_type": "code",
      "source": [
        "constant_cols = X.nunique()[X.nunique() == 1].index.tolist()\n",
        "print(\"Colunas constantes:\", constant_cols)"
      ],
      "metadata": {
        "colab": {
          "base_uri": "https://localhost:8080/"
        },
        "id": "dz4_Da1hnAYy",
        "outputId": "2c019814-85ff-4104-8f1d-4a58c99b2536"
      },
      "execution_count": null,
      "outputs": [
        {
          "output_type": "stream",
          "name": "stdout",
          "text": [
            "Colunas constantes: []\n"
          ]
        }
      ]
    },
    {
      "cell_type": "markdown",
      "source": [
        "Separar X e y"
      ],
      "metadata": {
        "id": "tY4xXlBRm7-X"
      }
    },
    {
      "cell_type": "code",
      "source": [
        "X = df[cat_cols + num_cols]\n",
        "y = df['Target']"
      ],
      "metadata": {
        "id": "vb5Yvlopm_AV"
      },
      "execution_count": null,
      "outputs": []
    },
    {
      "cell_type": "markdown",
      "source": [
        "Dividindo as features e target"
      ],
      "metadata": {
        "id": "48edyc9AnZFR"
      }
    },
    {
      "cell_type": "code",
      "source": [
        "# Separa X (features) e y (alvo)\n",
        "X = df.drop(columns='Target')\n",
        "y = df['Target']"
      ],
      "metadata": {
        "id": "8zdOFgF6nW3i"
      },
      "execution_count": null,
      "outputs": []
    },
    {
      "cell_type": "markdown",
      "source": [
        "Criando o ColumnTransformer (OneHot + StandardScaler)"
      ],
      "metadata": {
        "id": "Vg8bbFaKeor8"
      }
    },
    {
      "cell_type": "code",
      "source": [
        "# Separando colunas categóricas e numéricas com base na cardinalidade\n",
        "# Colunas categóricas: até 10 valores únicos\n",
        "cat_cols = [col for col in X.columns if X[col].nunique() <= 10]\n",
        "\n",
        "# Colunas numéricas: todas as outras\n",
        "num_cols = [col for col in X.columns if col not in cat_cols]\n",
        "\n",
        "print(\"Colunas categóricas:\", cat_cols)\n",
        "print(\"Colunas numéricas:\", num_cols)\n",
        "\n",
        "# Criando o ColumnTransformer (OneHot + StandardScaler)\n",
        "from sklearn.compose import ColumnTransformer\n",
        "from sklearn.preprocessing import OneHotEncoder, StandardScaler\n",
        "from sklearn.pipeline import Pipeline\n",
        "\n",
        "preprocessor = ColumnTransformer(\n",
        "    transformers=[\n",
        "        ('cat', OneHotEncoder(handle_unknown='ignore', sparse_output=False), cat_cols),\n",
        "        ('num', StandardScaler(), num_cols)\n",
        "    ]\n",
        ")"
      ],
      "metadata": {
        "id": "36MXLFvCenRv",
        "colab": {
          "base_uri": "https://localhost:8080/"
        },
        "outputId": "d3c2d114-667b-4e93-92f8-b43aa2cf46fb"
      },
      "execution_count": null,
      "outputs": [
        {
          "output_type": "stream",
          "name": "stdout",
          "text": [
            "Colunas categóricas: ['Marital Status', 'Application order', 'Daytime/evening attendance', 'Displaced', 'Educational special needs', 'Debtor', 'Tuition fees up to date', 'Gender', 'Scholarship holder', 'International', 'Curricular units 2nd sem (without evaluations)', 'Unemployment rate', 'Inflation rate', 'GDP']\n",
            "Colunas numéricas: ['Application mode', 'Course', 'Previous qualification', 'Previous qualification (grade)', 'Nacionality', \"Mother's qualification\", \"Father's qualification\", \"Mother's occupation\", \"Father's occupation\", 'Admission grade', 'Age at enrollment', 'Curricular units 1st sem (credited)', 'Curricular units 1st sem (enrolled)', 'Curricular units 1st sem (evaluations)', 'Curricular units 1st sem (approved)', 'Curricular units 1st sem (grade)', 'Curricular units 1st sem (without evaluations)', 'Curricular units 2nd sem (credited)', 'Curricular units 2nd sem (enrolled)', 'Curricular units 2nd sem (evaluations)', 'Curricular units 2nd sem (approved)', 'Curricular units 2nd sem (grade)']\n"
          ]
        }
      ]
    },
    {
      "cell_type": "markdown",
      "source": [
        "Dividir em treino e teste"
      ],
      "metadata": {
        "id": "h-v8C_DpfOR-"
      }
    },
    {
      "cell_type": "code",
      "source": [
        "X_train, X_test, y_train, y_test = train_test_split(\n",
        "    X, y, test_size=0.2, stratify=y, random_state=42\n",
        ")"
      ],
      "metadata": {
        "id": "7PLPiXnqfQOD"
      },
      "execution_count": null,
      "outputs": []
    },
    {
      "cell_type": "markdown",
      "source": [
        "Aplicando pré-processamento nos dados"
      ],
      "metadata": {
        "id": "cWaLnGx0iXBy"
      }
    },
    {
      "cell_type": "code",
      "source": [
        "X_train_processed = preprocessor.fit_transform(X_train)\n",
        "X_test_processed = preprocessor.transform(X_test)\n",
        "\n",
        "print(\"Formato final do treino:\", X_train_processed.shape)\n",
        "print(\"Formato final do teste:\", X_test_processed.shape)"
      ],
      "metadata": {
        "colab": {
          "base_uri": "https://localhost:8080/"
        },
        "id": "NM6klNQNfY8t",
        "outputId": "5d530647-f37c-41bf-92d4-ee34f68fb483"
      },
      "execution_count": null,
      "outputs": [
        {
          "output_type": "stream",
          "name": "stdout",
          "text": [
            "Formato final do treino: (3539, 91)\n",
            "Formato final do teste: (885, 91)\n"
          ]
        }
      ]
    },
    {
      "cell_type": "markdown",
      "source": [
        "Versão SEM escalonamento do pré-processador"
      ],
      "metadata": {
        "id": "VBW8mC1LBqJ_"
      }
    },
    {
      "cell_type": "code",
      "source": [
        "preprocessor_sem_escala = ColumnTransformer(\n",
        "    transformers=[\n",
        "        ('cat', OneHotEncoder(handle_unknown='ignore', sparse_output=False), cat_cols),\n",
        "        ('num', 'passthrough', num_cols)\n",
        "    ]\n",
        ")\n",
        "\n",
        "X_train_no_scale = preprocessor_sem_escala.fit_transform(X_train)\n",
        "X_test_no_scale = preprocessor_sem_escala.transform(X_test)\n",
        "\n",
        "print(\"Formato (sem escala) - treino:\", X_train_no_scale.shape)\n",
        "print(\"Formato (sem escala) - teste:\", X_test_no_scale.shape)"
      ],
      "metadata": {
        "colab": {
          "base_uri": "https://localhost:8080/"
        },
        "id": "ULneBJh6BuM2",
        "outputId": "20d4d318-dbef-41a8-af87-9760fa60c003"
      },
      "execution_count": null,
      "outputs": [
        {
          "output_type": "stream",
          "name": "stdout",
          "text": [
            "Formato (sem escala) - treino: (3539, 91)\n",
            "Formato (sem escala) - teste: (885, 91)\n"
          ]
        }
      ]
    },
    {
      "cell_type": "markdown",
      "source": [
        "**ETAPA DE PREDIÇÕES**"
      ],
      "metadata": {
        "id": "3qgDHkNnbnTh"
      }
    },
    {
      "cell_type": "markdown",
      "source": [
        "K-Nearest Neighbors (KNN)"
      ],
      "metadata": {
        "id": "bPsmakBRvrlt"
      }
    },
    {
      "cell_type": "code",
      "source": [
        "from sklearn.neighbors import KNeighborsClassifier\n",
        "from sklearn.model_selection import GridSearchCV, StratifiedKFold\n",
        "from sklearn.metrics import classification_report, accuracy_score, confusion_matrix\n",
        "from sklearn.pipeline import Pipeline\n",
        "import pandas as pd\n",
        "\n",
        "# Definir a estratégia de validação cruzada (k-Fold estratificado)\n",
        "cv_strategy = StratifiedKFold(n_splits=5, shuffle=True, random_state=42)\n",
        "\n",
        "\n",
        "# Definir o algoritmo: K-Nearest Neighbors\n",
        "knn_model = KNeighborsClassifier()\n",
        "\n",
        "# Definir diferentes hiper-parâmetros para KNN\n",
        "# Vamos testar um intervalo de valores para n_neighbors\n",
        "# O peso dos vizinhos também pode ser um hiperparâmetro interessante ('uniform' ou 'distance')\n",
        "param_grid_knn = {\n",
        "    'classifier__n_neighbors': [3, 5, 7, 9, 11, 13, 15], # Número de vizinhos\n",
        "    'classifier__weights': ['uniform', 'distance'] # Peso dos vizinhos\n",
        "}\n",
        "\n",
        "# Cria o Pipeline com pré-processamento e o modelo KNN\n",
        "# Reutilizamos o 'preprocessor' já definido\n",
        "pipeline_knn = Pipeline(steps=[('preprocessor', preprocessor),\n",
        "                               ('classifier', knn_model)])\n",
        "\n",
        "print(\"Iniciando a busca de hiperparâmetros para KNN com validação cruzada...\")\n",
        "\n",
        "# Configura o GridSearchCV para KNN\n",
        "# Usamos a mesma estratégia de validação cruzada (cv_strategy) definida anteriormente\n",
        "grid_search_knn = GridSearchCV(pipeline_knn,\n",
        "                               param_grid=param_grid_knn,\n",
        "                               cv=cv_strategy, # Usar cv_strategy definido anteriormente\n",
        "                               scoring='accuracy', # Métrica para otimização\n",
        "                               n_jobs=-1)\n",
        "\n",
        "# Executa a busca de hiperparâmetros nos dados de treino originais\n",
        "grid_search_knn.fit(X_train, y_train)\n",
        "\n",
        "print(\"\\nBusca de hiperparâmetros para KNN concluída.\")\n",
        "print(f\"Melhores hiperparâmetros para KNN: {grid_search_knn.best_params_}\")\n",
        "print(f\"Melhor score de validação cruzada para KNN: {grid_search_knn.best_score_:.4f}\")\n",
        "\n",
        "# Obtém o melhor modelo KNN (o pipeline com os melhores hiperparâmetros)\n",
        "best_knn_model = grid_search_knn.best_estimator_\n",
        "\n",
        "# Avalia o melhor modelo KNN no conjunto de teste\n",
        "print(\"\\nAvaliando o melhor modelo de KNN no conjunto de teste...\") # Completei a frase aqui\n",
        "y_pred_knn = best_knn_model.predict(X_test)\n",
        "\n",
        "# Avaliação usando accuracy e classification_report\n",
        "accuracy_knn = accuracy_score(y_test, y_pred_knn)\n",
        "report_knn = classification_report(y_test, y_pred_knn)\n",
        "conf_matrix_knn = confusion_matrix(y_test, y_pred_knn)\n",
        "\n",
        "print(f\"Accuracy de KNN no conjunto de teste: {accuracy_knn:.4f}\")\n",
        "print(\"Classification Report de KNN no conjunto de teste:\\n\", report_knn)\n",
        "\n",
        "class_names = ['Dropout (0)', 'Enrolled (1)', 'Graduated (2)']\n",
        "\n",
        "conf_matrix_df = pd.DataFrame(conf_matrix_knn, index=class_names, columns=class_names)\n",
        "\n",
        "# Imprime a matriz de confusão formatada\n",
        "print(\"Confusion Matrix de KNN no conjunto de teste (com rótulos):\")\n",
        "print(conf_matrix_df)"
      ],
      "metadata": {
        "colab": {
          "base_uri": "https://localhost:8080/"
        },
        "id": "70POhTaevw0z",
        "outputId": "33432d6c-e1c8-4ce9-b642-d2cac693425d"
      },
      "execution_count": null,
      "outputs": [
        {
          "output_type": "stream",
          "name": "stdout",
          "text": [
            "Iniciando a busca de hiperparâmetros para KNN com validação cruzada...\n",
            "\n",
            "Busca de hiperparâmetros para KNN concluída.\n",
            "Melhores hiperparâmetros para KNN: {'classifier__n_neighbors': 13, 'classifier__weights': 'uniform'}\n",
            "Melhor score de validação cruzada para KNN: 0.7107\n",
            "\n",
            "Avaliando o melhor modelo de KNN no conjunto de teste...\n",
            "Accuracy de KNN no conjunto de teste: 0.6949\n",
            "Classification Report de KNN no conjunto de teste:\n",
            "               precision    recall  f1-score   support\n",
            "\n",
            "           0       0.81      0.60      0.69       284\n",
            "           1       0.38      0.18      0.25       159\n",
            "           2       0.70      0.94      0.80       442\n",
            "\n",
            "    accuracy                           0.69       885\n",
            "   macro avg       0.63      0.57      0.58       885\n",
            "weighted avg       0.67      0.69      0.66       885\n",
            "\n",
            "Confusion Matrix de KNN no conjunto de teste (com rótulos):\n",
            "               Dropout (0)  Enrolled (1)  Graduated (2)\n",
            "Dropout (0)            170            32             82\n",
            "Enrolled (1)            30            29            100\n",
            "Graduated (2)           11            15            416\n"
          ]
        }
      ]
    },
    {
      "cell_type": "markdown",
      "source": [
        "Regressão Logística"
      ],
      "metadata": {
        "id": "rbsO29ijwK2U"
      }
    },
    {
      "cell_type": "code",
      "source": [
        "from sklearn.model_selection import cross_val_score, KFold, StratifiedKFold, GridSearchCV\n",
        "from sklearn.linear_model import LogisticRegression,\n",
        "from sklearn.pipeline import Pipeline\n",
        "from sklearn.metrics import classification_report, accuracy_score, confusion_matrix\n",
        "import pandas as pd\n",
        "\n",
        "# estratégia de validação cruzada\n",
        "# para avaliar a performance do modelo de forma mais confiavel\n",
        "# uso de (k-Fold estratificado)\n",
        "cv_strategy = StratifiedKFold(n_splits=5, shuffle=True, random_state=42)\n",
        "\n",
        "# Mostra o algoritmo de Regressão Logística\n",
        "# vantagem: Teria uma rapida velocidade de predição e teste.\n",
        "# com um tipo de decisão linear(hiperplano)\n",
        "# No caso de desempenho com dados não lineares e desbalanceados, ele trabalha de maneira limitada\n",
        "# Necessita de um pré-processamento\n",
        "# Só modela relações lineares\n",
        "\n",
        "model = LogisticRegression(solver='liblinear', random_state=42, max_iter=1000)\n",
        "\n",
        "# Define diferentes hiper-parâmetros para Regressão Logística\n",
        "param_grid = {\n",
        "    'classifier__C': [0.001, 0.01, 0.1, 1.0, 10.0, 100.0], # Força de regularização\n",
        "    'classifier__penalty': ['l1', 'l2'] # Tipo de regularização. Usada para evitar overfitting ( aprende demais com o treino e não generaliza para dados novos)\n",
        "}\n",
        "\n",
        "# Criar o Pipeline com pré-processamento e o modelo\n",
        "# O 'preprocessor' já foi definido nas células anteriores e inclui OneHotEncoder e StandardScaler\n",
        "pipeline = Pipeline(steps=[('preprocessor', preprocessor),\n",
        "                           ('classifier', model)])\n",
        "\n",
        "print(\"Iniciando a busca de hiperparâmetros para Regressão Logística com validação cruzada...\")\n",
        "\n",
        "# Configura o GridSearchCV\n",
        "grid_search_lr = GridSearchCV(pipeline,\n",
        "                              param_grid=param_grid,\n",
        "                              cv=cv_strategy, # Estratégia de validação cruzada\n",
        "                              scoring='accuracy', # Métrica para otimização\n",
        "                              n_jobs=-1)\n",
        "\n",
        "# Executa a busca de hiperparâmetros nos dados de treino\n",
        "grid_search_lr.fit(X_train, y_train)\n",
        "\n",
        "print(\"\\nBusca de hiperparâmetros para Regressão Logística concluída.\")\n",
        "print(f\"Melhores hiperparâmetros: {grid_search_lr.best_params_}\")\n",
        "print(f\"Melhor score de validação cruzada: {grid_search_lr.best_score_:.4f}\")\n",
        "\n",
        "# Obtém (o pipeline com os melhores hiperparâmetros)\n",
        "best_lr_model = grid_search_lr.best_estimator_\n",
        "\n",
        "\n",
        "print(\"\\nAvaliando o melhor modelo de Regressão Logística no conjunto de teste...\")\n",
        "y_pred_lr = best_lr_model.predict(X_test)\n",
        "\n",
        "# Avaliação usando accuracy e classification_report\n",
        "# gera um relatorio com as metricas para as classes recall, f1...\n",
        "accuracy_lr = accuracy_score(y_test, y_pred_lr)\n",
        "report_lr = classification_report(y_test, y_pred_lr)\n",
        "conf_matrix_lr = confusion_matrix(y_test, y_pred_lr)\n",
        "\n",
        "# Accuracy: Proporção de previsões corretas no conjunto de teste\n",
        "print(f\"Accuracy no conjunto de teste: {accuracy_lr:.4f}\")\n",
        "print(\"Classification Report no conjunto de teste:\\n\", report_lr)\n",
        "print(\"Confusion Matrix no conjunto de teste:\\n\", conf_matrix_lr)"
      ],
      "metadata": {
        "colab": {
          "base_uri": "https://localhost:8080/"
        },
        "id": "VaCMmslEbuAo",
        "outputId": "2f2adcfe-6949-41d8-c1c0-58eb6c09874f"
      },
      "execution_count": null,
      "outputs": [
        {
          "output_type": "stream",
          "name": "stdout",
          "text": [
            "Iniciando a busca de hiperparâmetros para Regressão Logística com validação cruzada...\n",
            "\n",
            "Busca de hiperparâmetros para Regressão Logística concluída.\n",
            "Melhores hiperparâmetros: {'classifier__C': 1.0, 'classifier__penalty': 'l1'}\n",
            "Melhor score de validação cruzada: 0.7649\n",
            "\n",
            "Avaliando o melhor modelo de Regressão Logística no conjunto de teste...\n",
            "Accuracy no conjunto de teste: 0.7650\n",
            "Classification Report no conjunto de teste:\n",
            "               precision    recall  f1-score   support\n",
            "\n",
            "           0       0.80      0.77      0.78       284\n",
            "           1       0.53      0.26      0.35       159\n",
            "           2       0.78      0.94      0.86       442\n",
            "\n",
            "    accuracy                           0.76       885\n",
            "   macro avg       0.70      0.66      0.66       885\n",
            "weighted avg       0.74      0.76      0.74       885\n",
            "\n",
            "Confusion Matrix no conjunto de teste:\n",
            " [[219  22  43]\n",
            " [ 45  42  72]\n",
            " [ 11  15 416]]\n"
          ]
        }
      ]
    },
    {
      "cell_type": "markdown",
      "source": [
        "Random Forest"
      ],
      "metadata": {
        "id": "RCGrbAjowvuz"
      }
    },
    {
      "cell_type": "code",
      "source": [
        "from sklearn.ensemble import RandomForestClassifier\n",
        "from sklearn.model_selection import GridSearchCV\n",
        "from sklearn.metrics import classification_report, accuracy_score, confusion_matrix\n",
        "from sklearn.pipeline import Pipeline\n",
        "\n",
        "# Define o algoritmo: Random Forest\n",
        "rf_model = RandomForestClassifier(random_state=42)\n",
        "\n",
        "# Definir diferentes hiper-parâmetros para Random Forest\n",
        "# testa alguns valores para n_estimators, max_depth e min_samples_leaf\n",
        "param_grid_rf = {\n",
        "    'classifier__n_estimators': [100, 200, 300], # Número de árvores na floresta\n",
        "    'classifier__max_depth': [None, 10, 20, 30], # Profundidade máxima da árvore\n",
        "    'classifier__min_samples_leaf': [1, 2, 4], # Número mínimo de amostras em uma folha\n",
        "}\n",
        "\n",
        "# Criar o Pipeline com pré-processamento e o modelo Random Forest\n",
        "# Reutilizamos o 'preprocessor' já definido\n",
        "pipeline_rf = Pipeline(steps=[('preprocessor', preprocessor),\n",
        "                               ('classifier', rf_model)])\n",
        "\n",
        "print(\"Iniciando a busca de hiperparâmetros para Random Forest com validação cruzada...\")\n",
        "\n",
        "# Configura o GridSearchCV para Random Forest\n",
        "grid_search_rf = GridSearchCV(pipeline_rf,\n",
        "                              param_grid=param_grid_rf,\n",
        "                              cv=cv_strategy, # Usar cv_strategy definido anteriormente\n",
        "                              scoring='accuracy', # Métrica para otimização\n",
        "                              n_jobs=-1)\n",
        "\n",
        "# Executa a busca de hiperparâmetros nos dados de treino originais\n",
        "grid_search_rf.fit(X_train, y_train)\n",
        "\n",
        "print(\"\\nBusca de hiperparâmetros para Random Forest concluída.\")\n",
        "print(f\"Melhores hiperparâmetros para Random Forest: {grid_search_rf.best_params_}\")\n",
        "print(f\"Melhor score de validação cruzada para Random Forest: {grid_search_rf.best_score_:.4f}\")\n",
        "\n",
        "# Obtem o melhor modelo Random Forest (o pipeline com os melhores hiperparâmetros)\n",
        "best_rf_model = grid_search_rf.best_estimator_\n",
        "\n",
        "# Avalia o melhor modelo Random Forest no conjunto de teste\n",
        "print(\"\\nAvaliando o melhor modelo de Random Forest no conjunto de teste...\")\n",
        "y_pred_rf = best_rf_model.predict(X_test)\n",
        "\n",
        "# Avaliação usando accuracy e classification_report\n",
        "accuracy_rf = accuracy_score(y_test, y_pred_rf)\n",
        "report_rf = classification_report(y_test, y_pred_rf)\n",
        "conf_matrix_rf = confusion_matrix(y_test, y_pred_rf)\n",
        "\n",
        "print(f\"Accuracy de Random Forest no conjunto de teste: {accuracy_rf:.4f}\")\n",
        "print(\"Classification Report de Random Forest no conjunto de teste:\\n\", report_rf)\n",
        "print(\"Confusion Matrix de Random Forest no conjunto de teste:\\n\", conf_matrix_rf)"
      ],
      "metadata": {
        "colab": {
          "base_uri": "https://localhost:8080/"
        },
        "id": "XWn0Q56Zw1vm",
        "outputId": "2f4fff39-f157-4036-9b2a-4b99b0a6d4a3"
      },
      "execution_count": null,
      "outputs": [
        {
          "output_type": "stream",
          "name": "stdout",
          "text": [
            "Iniciando a busca de hiperparâmetros para Random Forest com validação cruzada...\n",
            "\n",
            "Busca de hiperparâmetros para Random Forest concluída.\n",
            "Melhores hiperparâmetros para Random Forest: {'classifier__max_depth': 20, 'classifier__min_samples_leaf': 2, 'classifier__n_estimators': 100}\n",
            "Melhor score de validação cruzada para Random Forest: 0.7768\n",
            "\n",
            "Avaliando o melhor modelo de Random Forest no conjunto de teste...\n",
            "Accuracy de Random Forest no conjunto de teste: 0.7684\n",
            "Classification Report de Random Forest no conjunto de teste:\n",
            "               precision    recall  f1-score   support\n",
            "\n",
            "           0       0.80      0.77      0.79       284\n",
            "           1       0.58      0.31      0.41       159\n",
            "           2       0.78      0.93      0.85       442\n",
            "\n",
            "    accuracy                           0.77       885\n",
            "   macro avg       0.72      0.67      0.68       885\n",
            "weighted avg       0.75      0.77      0.75       885\n",
            "\n",
            "Confusion Matrix de Random Forest no conjunto de teste:\n",
            " [[220  17  47]\n",
            " [ 41  50  68]\n",
            " [ 13  19 410]]\n"
          ]
        }
      ]
    },
    {
      "cell_type": "markdown",
      "source": [
        "Modelos com diferentes hiperparâmetros (com escalonamento)"
      ],
      "metadata": {
        "id": "3mD0OfgCE7ER"
      }
    },
    {
      "cell_type": "code",
      "source": [
        "from sklearn.ensemble import RandomForestClassifier\n",
        "from sklearn.neighbors import KNeighborsClassifier\n",
        "from sklearn.linear_model import LogisticRegression\n",
        "from sklearn.metrics import classification_report\n",
        "\n",
        "print(\"Random Forest – n_estimators=100\")\n",
        "rf1 = RandomForestClassifier(n_estimators=100, random_state=42)\n",
        "rf1.fit(X_train_processed, y_train)\n",
        "print(classification_report(y_test, rf1.predict(X_test_processed)))\n",
        "\n",
        "print(\"Random Forest – n_estimators=200, max_depth=10\")\n",
        "rf2 = RandomForestClassifier(n_estimators=200, max_depth=10, random_state=42)\n",
        "rf2.fit(X_train_processed, y_train)\n",
        "print(classification_report(y_test, rf2.predict(X_test_processed)))\n",
        "\n",
        "print(\"KNN – n_neighbors=3\")\n",
        "knn1 = KNeighborsClassifier(n_neighbors=3)\n",
        "knn1.fit(X_train_processed, y_train)\n",
        "print(classification_report(y_test, knn1.predict(X_test_processed)))\n",
        "\n",
        "print(\"KNN – n_neighbors=7\")\n",
        "knn2 = KNeighborsClassifier(n_neighbors=7)\n",
        "knn2.fit(X_train_processed, y_train)\n",
        "print(classification_report(y_test, knn2.predict(X_test_processed)))\n",
        "\n",
        "print(\"Logistic Regression – C=1.0\")\n",
        "lr1 = LogisticRegression(C=1.0, max_iter=1000)\n",
        "lr1.fit(X_train_processed, y_train)\n",
        "print(classification_report(y_test, lr1.predict(X_test_processed)))\n",
        "\n",
        "print(\"Logistic Regression – C=0.1, solver='liblinear'\")\n",
        "lr2 = LogisticRegression(C=0.1, solver='liblinear', max_iter=1000)\n",
        "lr2.fit(X_train_processed, y_train)\n",
        "print(classification_report(y_test, lr2.predict(X_test_processed)))"
      ],
      "metadata": {
        "id": "utamaQYnE_95",
        "colab": {
          "base_uri": "https://localhost:8080/"
        },
        "outputId": "c7db2930-c416-4e78-bdfd-50b631803ebd"
      },
      "execution_count": null,
      "outputs": [
        {
          "output_type": "stream",
          "name": "stdout",
          "text": [
            "Random Forest – n_estimators=100\n",
            "              precision    recall  f1-score   support\n",
            "\n",
            "           0       0.81      0.76      0.78       284\n",
            "           1       0.53      0.34      0.42       159\n",
            "           2       0.78      0.91      0.84       442\n",
            "\n",
            "    accuracy                           0.76       885\n",
            "   macro avg       0.71      0.67      0.68       885\n",
            "weighted avg       0.74      0.76      0.75       885\n",
            "\n",
            "Random Forest – n_estimators=200, max_depth=10\n",
            "              precision    recall  f1-score   support\n",
            "\n",
            "           0       0.80      0.75      0.77       284\n",
            "           1       0.59      0.28      0.38       159\n",
            "           2       0.77      0.94      0.85       442\n",
            "\n",
            "    accuracy                           0.76       885\n",
            "   macro avg       0.72      0.66      0.67       885\n",
            "weighted avg       0.75      0.76      0.74       885\n",
            "\n",
            "KNN – n_neighbors=3\n",
            "              precision    recall  f1-score   support\n",
            "\n",
            "           0       0.66      0.68      0.67       284\n",
            "           1       0.26      0.17      0.21       159\n",
            "           2       0.73      0.81      0.77       442\n",
            "\n",
            "    accuracy                           0.65       885\n",
            "   macro avg       0.55      0.55      0.55       885\n",
            "weighted avg       0.62      0.65      0.64       885\n",
            "\n",
            "KNN – n_neighbors=7\n",
            "              precision    recall  f1-score   support\n",
            "\n",
            "           0       0.76      0.61      0.68       284\n",
            "           1       0.37      0.23      0.28       159\n",
            "           2       0.70      0.88      0.78       442\n",
            "\n",
            "    accuracy                           0.68       885\n",
            "   macro avg       0.61      0.57      0.58       885\n",
            "weighted avg       0.66      0.68      0.66       885\n",
            "\n",
            "Logistic Regression – C=1.0\n",
            "              precision    recall  f1-score   support\n",
            "\n",
            "           0       0.78      0.76      0.77       284\n",
            "           1       0.48      0.31      0.38       159\n",
            "           2       0.80      0.92      0.85       442\n",
            "\n",
            "    accuracy                           0.76       885\n",
            "   macro avg       0.69      0.66      0.67       885\n",
            "weighted avg       0.74      0.76      0.74       885\n",
            "\n",
            "Logistic Regression – C=0.1, solver='liblinear'\n",
            "              precision    recall  f1-score   support\n",
            "\n",
            "           0       0.80      0.77      0.78       284\n",
            "           1       0.51      0.23      0.32       159\n",
            "           2       0.77      0.94      0.85       442\n",
            "\n",
            "    accuracy                           0.76       885\n",
            "   macro avg       0.69      0.65      0.65       885\n",
            "weighted avg       0.73      0.76      0.73       885\n",
            "\n"
          ]
        }
      ]
    },
    {
      "cell_type": "markdown",
      "source": [
        "Treinando os modelos com dados sem escalonamento"
      ],
      "metadata": {
        "id": "Xk574QVFCNNs"
      }
    },
    {
      "cell_type": "code",
      "source": [
        "from sklearn.ensemble import RandomForestClassifier\n",
        "from sklearn.neighbors import KNeighborsClassifier\n",
        "from sklearn.linear_model import LogisticRegression\n",
        "from sklearn.model_selection import cross_val_score\n",
        "from sklearn.metrics import classification_report\n",
        "\n",
        "# Random Forest\n",
        "rf = RandomForestClassifier(n_estimators=100, random_state=42)\n",
        "rf.fit(X_train_no_scale, y_train)\n",
        "print(\"Random Forest (sem escala):\\n\", classification_report(y_test, rf.predict(X_test_no_scale)))\n",
        "\n",
        "# KNN\n",
        "knn = KNeighborsClassifier(n_neighbors=5)\n",
        "knn.fit(X_train_no_scale, y_train)\n",
        "print(\"KNN (sem escala):\\n\", classification_report(y_test, knn.predict(X_test_no_scale)))\n",
        "\n",
        "# Regressão Logística\n",
        "lr = LogisticRegression(solver='saga', max_iter=3000)\n",
        "lr.fit(X_train_no_scale, y_train)\n",
        "print(\"Logistic Regression (sem escala):\\n\", classification_report(y_test, lr.predict(X_test_no_scale)))"
      ],
      "metadata": {
        "id": "ioteFQO9CJst",
        "colab": {
          "base_uri": "https://localhost:8080/"
        },
        "outputId": "14ed10c0-5ed4-4e25-91ab-cc3bf55eabee"
      },
      "execution_count": null,
      "outputs": [
        {
          "output_type": "stream",
          "name": "stdout",
          "text": [
            "Random Forest (sem escala):\n",
            "               precision    recall  f1-score   support\n",
            "\n",
            "           0       0.80      0.75      0.78       284\n",
            "           1       0.52      0.33      0.41       159\n",
            "           2       0.78      0.91      0.84       442\n",
            "\n",
            "    accuracy                           0.76       885\n",
            "   macro avg       0.70      0.67      0.68       885\n",
            "weighted avg       0.74      0.76      0.74       885\n",
            "\n",
            "KNN (sem escala):\n",
            "               precision    recall  f1-score   support\n",
            "\n",
            "           0       0.57      0.55      0.56       284\n",
            "           1       0.31      0.24      0.27       159\n",
            "           2       0.66      0.73      0.69       442\n",
            "\n",
            "    accuracy                           0.58       885\n",
            "   macro avg       0.51      0.51      0.51       885\n",
            "weighted avg       0.57      0.58      0.57       885\n",
            "\n",
            "Logistic Regression (sem escala):\n",
            "               precision    recall  f1-score   support\n",
            "\n",
            "           0       0.80      0.68      0.74       284\n",
            "           1       0.43      0.06      0.10       159\n",
            "           2       0.69      0.97      0.80       442\n",
            "\n",
            "    accuracy                           0.71       885\n",
            "   macro avg       0.64      0.57      0.55       885\n",
            "weighted avg       0.68      0.71      0.66       885\n",
            "\n"
          ]
        },
        {
          "output_type": "stream",
          "name": "stderr",
          "text": [
            "/usr/local/lib/python3.11/dist-packages/sklearn/linear_model/_sag.py:348: ConvergenceWarning: The max_iter was reached which means the coef_ did not converge\n",
            "  warnings.warn(\n"
          ]
        }
      ]
    },
    {
      "cell_type": "markdown",
      "source": [
        "**ANÁLISE COMPARATIVA**"
      ],
      "metadata": {
        "id": "U2RMxLlfyHfx"
      }
    },
    {
      "cell_type": "code",
      "source": [
        "import pandas as pd\n",
        "import matplotlib.pyplot as plt\n",
        "import seaborn as sns\n",
        "from sklearn.metrics import classification_report, accuracy_score, confusion_matrix\n",
        "\n",
        "# Garantir que classification_report retorne um dicionário\n",
        "report_lr_dict = classification_report(y_test, y_pred_lr, output_dict=True)\n",
        "report_knn_dict = classification_report(y_test, y_pred_knn, output_dict=True)\n",
        "report_rf_dict = classification_report(y_test, y_pred_rf, output_dict=True)\n",
        "\n",
        "# Dicionário para armazenar as métricas de cada modelo\n",
        "model_comparison_improved = {}\n",
        "\n",
        "model_comparison_improved['Logistic Regression'] = {\n",
        "    'Accuracy': report_lr_dict['accuracy'],\n",
        "    'Precision': report_lr_dict['macro avg']['precision'],\n",
        "    'Recall': report_lr_dict['macro avg']['recall'],\n",
        "    'F1-Score': report_lr_dict['macro avg']['f1-score']\n",
        "}\n",
        "\n",
        "# Coleta as métricas do KNN\n",
        "model_comparison_improved['KNN'] = {\n",
        "    'Accuracy': report_knn_dict['accuracy'],\n",
        "    'Precision': report_knn_dict['macro avg']['precision'],\n",
        "    'Recall': report_knn_dict['macro avg']['recall'],\n",
        "    'F1-Score': report_knn_dict['macro avg']['f1-score']\n",
        "}\n",
        "\n",
        "# Coleta as métricas do Random Forest\n",
        "# Alta precisão significa poucos falsos positivos.\n",
        "# Alto recall significa poucos falsos negativos.\n",
        "\n",
        "model_comparison_improved['Random Forest'] = {\n",
        "    'Accuracy': report_rf_dict['accuracy'],\n",
        "    'Precision': report_rf_dict['macro avg']['precision'],\n",
        "    'Recall': report_rf_dict['macro avg']['recall'],\n",
        "    'F1-Score': report_rf_dict['macro avg']['f1-score']\n",
        "}\n",
        "\n",
        "# Cria um DataFrame a partir do dicionário\n",
        "comparison_df_improved = pd.DataFrame(model_comparison_improved).T\n",
        "\n",
        "print(\"\\nComparação das Métricas dos Modelos no Conjunto de Teste:\")\n",
        "print(comparison_df_improved)\n",
        "\n",
        "plt.figure(figsize=(12, 7))\n",
        "sns.barplot(data=comparison_df_improved.reset_index().melt(id_vars='index'), x='index', y='value', hue='variable')\n",
        "plt.title(\"Comparação das Métricas de Desempenho dos Modelos (Macro Average)\")\n",
        "plt.xlabel(\"Modelo\")\n",
        "plt.ylabel(\"Valor da Métrica\")\n",
        "plt.legend(title=\"Métrica\", loc='upper left')\n",
        "plt.xticks(rotation=45, ha='right')\n",
        "plt.ylim(0, 1.0) # Definir limite y para métricas entre 0 e 1\n",
        "plt.grid(axis='y', linestyle='--')\n",
        "plt.tight_layout()\n",
        "plt.show()"
      ],
      "metadata": {
        "id": "CtcIajt6yZKZ",
        "colab": {
          "base_uri": "https://localhost:8080/",
          "height": 745
        },
        "outputId": "65a6e940-3d31-4863-8245-0097b488230e"
      },
      "execution_count": null,
      "outputs": [
        {
          "output_type": "stream",
          "name": "stdout",
          "text": [
            "\n",
            "Comparação das Métricas dos Modelos no Conjunto de Teste:\n",
            "                     Accuracy  Precision    Recall  F1-Score\n",
            "Logistic Regression  0.764972   0.703812  0.658818  0.663857\n",
            "KNN                  0.694915   0.627639  0.574053  0.577892\n",
            "Random Forest        0.768362   0.721756  0.672238  0.681559\n"
          ]
        },
        {
          "output_type": "display_data",
          "data": {
            "text/plain": [
              "<Figure size 1200x700 with 1 Axes>"
            ],
            "image/png": "[encoded data removed]"
          },
          "metadata": {}
        }
      ]
    },
    {
      "cell_type": "code",
      "source": [
        "from sklearn.compose import ColumnTransformer\n",
        "from sklearn.preprocessing import OneHotEncoder\n",
        "from sklearn.pipeline import Pipeline\n",
        "from sklearn.linear_model import LogisticRegression\n",
        "from sklearn.neighbors import KNeighborsClassifier\n",
        "from sklearn.ensemble import RandomForestClassifier\n",
        "from sklearn.model_selection import GridSearchCV, StratifiedKFold\n",
        "from sklearn.metrics import classification_report, accuracy_score, confusion_matrix\n",
        "import pandas as pd\n",
        "import matplotlib.pyplot as plt\n",
        "import seaborn as sns\n",
        "\n",
        "\n",
        "preprocessor_no_scaling = ColumnTransformer(\n",
        "    transformers=[\n",
        "        ('cat', OneHotEncoder(handle_unknown='ignore', sparse_output=False), cat_cols),\n",
        "        ('num', 'passthrough', num_cols)\n",
        "    ]\n",
        ")\n",
        "\n",
        "print(\"\\n--- Avaliando Regressão Logística SEM Escalonamento ---\")\n",
        "pipeline_lr_no_scaling = Pipeline(steps=[('preprocessor', preprocessor_no_scaling),\n",
        "                                         ('classifier', LogisticRegression(solver='liblinear', random_state=42, max_iter=1000))])\n",
        "\n",
        "# ver o impacto do escalonamento, então treinamos um modelo simples.\n",
        "pipeline_lr_no_scaling.fit(X_train, y_train)\n",
        "y_pred_lr_no_scaling = pipeline_lr_no_scaling.predict(X_test)\n",
        "accuracy_lr_no_scaling = accuracy_score(y_test, y_pred_lr_no_scaling)\n",
        "report_lr_no_scaling_dict = classification_report(y_test, y_pred_lr_no_scaling, output_dict=True)\n",
        "\n",
        "print(f\"Accuracy de Regressão Logística SEM escalonamento: {accuracy_lr_no_scaling:.4f}\")\n",
        "\n",
        "# Treinar e Avaliar KNN SEM Escalonamento\n",
        "print(\"\\n--- Avaliando KNN SEM Escalonamento ---\")\n",
        "pipeline_knn_no_scaling = Pipeline(steps=[('preprocessor', preprocessor_no_scaling),\n",
        "                                          ('classifier', KNeighborsClassifier())])\n",
        "\n",
        "# Treinar um modelo KNN básico sem otimização de hiperparâmetros para comparar o impacto do escalonamento\n",
        "# Para uma comparação mais justa, você poderia rodar GridSearchCV com e sem escalonamento.\n",
        "pipeline_knn_no_scaling.fit(X_train, y_train)\n",
        "y_pred_knn_no_scaling = pipeline_knn_no_scaling.predict(X_test)\n",
        "accuracy_knn_no_scaling = accuracy_score(y_test, y_pred_knn_no_scaling)\n",
        "report_knn_no_scaling_dict = classification_report(y_test, y_pred_knn_no_scaling, output_dict=True)\n",
        "\n",
        "print(f\"Accuracy de KNN SEM escalonamento: {accuracy_knn_no_scaling:.4f}\")\n",
        "\n",
        "\n",
        "# Treinar e Avaliar Random Forest SEM Escalonamento\n",
        "print(\"\\n--- Avaliando Random Forest SEM Escalonamento ---\")\n",
        "pipeline_rf_no_scaling = Pipeline(steps=[('preprocessor', preprocessor_no_scaling),\n",
        "                                         ('classifier', RandomForestClassifier(random_state=42))])\n",
        "\n",
        "# Treinar um modelo Random Forest básico sem otimização de hiperparâmetros\n",
        "# Para uma comparação mais justa, você poderia rodar GridSearchCV com e sem escalonamento.\n",
        "pipeline_rf_no_scaling.fit(X_train, y_train)\n",
        "y_pred_rf_no_scaling = pipeline_rf_no_scaling.predict(X_test)\n",
        "accuracy_rf_no_scaling = accuracy_score(y_test, y_pred_rf_no_scaling)\n",
        "report_rf_no_scaling_dict = classification_report(y_test, y_pred_rf_no_scaling, output_dict=True)\n",
        "\n",
        "print(f\"Accuracy de Random Forest SEM escalonamento: {accuracy_rf_no_scaling:.4f}\")\n",
        "\n",
        "\n",
        "# Comparação Final (COM vs SEM Escalonamento)\n",
        "\n",
        "# Dicionário para armazenar as métricas de cada modelo COM e SEM escalonamento\n",
        "scaling_comparison = {}\n",
        "\n",
        "# Regressão Logística\n",
        "scaling_comparison['Logistic Regression (Scaled)'] = {\n",
        "    'Accuracy': report_lr_dict['accuracy'],\n",
        "    'Precision (Macro)': report_lr_dict['macro avg']['precision'],\n",
        "    'Recall (Macro)': report_lr_dict['macro avg']['recall'],\n",
        "    'F1-Score (Macro)': report_lr_dict['macro avg']['f1-score']\n",
        "}\n",
        "scaling_comparison['Logistic Regression (No Scaling)'] = {\n",
        "    'Accuracy': report_lr_no_scaling_dict['accuracy'],\n",
        "    'Precision (Macro)': report_lr_no_scaling_dict['macro avg']['precision'],\n",
        "    'Recall (Macro)': report_lr_no_scaling_dict['macro avg']['recall'],\n",
        "    'F1-Score (Macro)': report_lr_no_scaling_dict['macro avg']['f1-score']\n",
        "}\n",
        "\n",
        "# KNN\n",
        "scaling_comparison['KNN (Scaled)'] = {\n",
        "    'Accuracy': report_knn_dict['accuracy'],\n",
        "    'Precision (Macro)': report_knn_dict['macro avg']['precision'],\n",
        "    'Recall (Macro)': report_knn_dict['macro avg']['recall'],\n",
        "    'F1-Score (Macro)': report_knn_dict['macro avg']['f1-score']\n",
        "}\n",
        "scaling_comparison['KNN (No Scaling)'] = {\n",
        "    'Accuracy': report_knn_no_scaling_dict['accuracy'],\n",
        "    'Precision (Macro)': report_knn_no_scaling_dict['macro avg']['precision'],\n",
        "    'Recall (Macro)': report_knn_no_scaling_dict['macro avg']['recall'],\n",
        "    'F1-Score (Macro)': report_knn_no_scaling_dict['macro avg']['f1-score']\n",
        "}\n",
        "\n",
        "# Random Forest\n",
        "scaling_comparison['Random Forest (Scaled)'] = {\n",
        "    'Accuracy': report_rf_dict['accuracy'],\n",
        "    'Precision (Macro)': report_rf_dict['macro avg']['precision'],\n",
        "    'Recall (Macro)': report_rf_dict['macro avg']['recall'],\n",
        "    'F1-Score (Macro)': report_rf_dict['macro avg']['f1-score']\n",
        "}\n",
        "scaling_comparison['Random Forest (No Scaling)'] = {\n",
        "    'Accuracy': report_rf_no_scaling_dict['accuracy'],\n",
        "    'Precision (Macro)': report_rf_no_scaling_dict['macro avg']['precision'],\n",
        "    'Recall (Macro)': report_rf_no_scaling_dict['macro avg']['recall'],\n",
        "    'F1-Score (Macro)': report_rf_no_scaling_dict['macro avg']['f1-score']\n",
        "}\n",
        "\n",
        "# Criar DataFrame para comparação de escalonamento\n",
        "scaling_comparison_df = pd.DataFrame(scaling_comparison).T\n",
        "\n",
        "print(\"\\nComparação de Métricas por Modelo (COM vs SEM Escalonamento):\")\n",
        "print(scaling_comparison_df)\n",
        "\n",
        "# Visualizar a comparação de escalonamento\n",
        "plt.figure(figsize=(14, 8))\n",
        "sns.barplot(data=scaling_comparison_df.reset_index().melt(id_vars='index'), x='index', y='value', hue='variable')\n",
        "plt.title(\"Comparação de Desempenho dos Modelos (COM vs SEM Escalonamento)\")\n",
        "plt.xlabel(\"Modelo e Escalonamento\")\n",
        "plt.ylabel(\"Valor da Métrica\")\n",
        "plt.legend(title=\"Métrica\", loc='upper left')\n",
        "plt.xticks(rotation=45, ha='right')\n",
        "plt.ylim(0, 1.0) # Definir limite y para métricas entre 0 e 1\n",
        "plt.grid(axis='y', linestyle='--')\n",
        "plt.tight_layout()\n",
        "plt.show()\n",
        "\n",
        "# KNN depende fortemente do escalonamento\n",
        "# Regressão logistica mantém desempenho limitado em operações não lineares, ou seja, em operações mais complexas.\n",
        "# Random forest ganha em todas as metricas, até no não escalonavel, ele mantém o padrão.\n",
        "# Random forest é menos sensivel ao escalonamento"
      ],
      "metadata": {
        "id": "KhKLApPo37Gt",
        "colab": {
          "base_uri": "https://localhost:8080/",
          "height": 1000
        },
        "outputId": "84181d61-7cdd-4da8-c10d-6ef7686be90a"
      },
      "execution_count": null,
      "outputs": [
        {
          "output_type": "stream",
          "name": "stdout",
          "text": [
            "\n",
            "--- Avaliando Regressão Logística SEM Escalonamento ---\n",
            "Accuracy de Regressão Logística SEM escalonamento: 0.7593\n",
            "\n",
            "--- Avaliando KNN SEM Escalonamento ---\n",
            "Accuracy de KNN SEM escalonamento: 0.5831\n",
            "\n",
            "--- Avaliando Random Forest SEM Escalonamento ---\n",
            "Accuracy de Random Forest SEM escalonamento: 0.7582\n",
            "\n",
            "Comparação de Métricas por Modelo (COM vs SEM Escalonamento):\n",
            "                                  Accuracy  Precision (Macro)  Recall (Macro)  \\\n",
            "Logistic Regression (Scaled)      0.764972           0.703812        0.658818   \n",
            "Logistic Regression (No Scaling)  0.759322           0.689560        0.644225   \n",
            "KNN (Scaled)                      0.694915           0.627639        0.574053   \n",
            "KNN (No Scaling)                  0.583051           0.513270        0.505599   \n",
            "Random Forest (Scaled)            0.768362           0.721756        0.672238   \n",
            "Random Forest (No Scaling)        0.758192           0.703062        0.666961   \n",
            "\n",
            "                                  F1-Score (Macro)  \n",
            "Logistic Regression (Scaled)              0.663857  \n",
            "Logistic Regression (No Scaling)          0.643200  \n",
            "KNN (Scaled)                              0.577892  \n",
            "KNN (No Scaling)                          0.507099  \n",
            "Random Forest (Scaled)                    0.681559  \n",
            "Random Forest (No Scaling)                0.675847  \n"
          ]
        },
        {
          "output_type": "display_data",
          "data": {
            "text/plain": [
              "<Figure size 1400x800 with 1 Axes>"
            ],
            "image/png": "[encoded data removed]"
          },
          "metadata": {}
        }
      ]
    },
    {
      "cell_type": "code",
      "source": [],
      "metadata": {
        "id": "c0CD96V2SIK8"
      },
      "execution_count": null,
      "outputs": []
    }
  ]
}